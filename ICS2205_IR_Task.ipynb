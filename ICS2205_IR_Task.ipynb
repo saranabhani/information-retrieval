{
 "cells": [
  {
   "cell_type": "markdown",
   "id": "a3ec2c48-251e-44c9-818f-a46b274725d6",
   "metadata": {},
   "source": [
    "# ICS2205 Information Retrieval Task"
   ]
  },
  {
   "cell_type": "markdown",
   "id": "099bf506-8e6f-4681-a5a8-ee18847a7e53",
   "metadata": {},
   "source": [
    "## Libraries"
   ]
  },
  {
   "cell_type": "code",
   "execution_count": 1,
   "id": "59c14004-43ec-4d24-886c-fee5ce5b7d7a",
   "metadata": {
    "ExecuteTime": {
     "end_time": "2023-12-01T15:15:02.714335Z",
     "start_time": "2023-12-01T15:15:02.707881Z"
    }
   },
   "outputs": [],
   "source": [
    "import ssl\n",
    "import re\n",
    "import os\n",
    "import nltk\n",
    "import math\n",
    "import random\n",
    "from collections import Counter \n",
    "import pandas as pd\n",
    "import warnings\n",
    "warnings.simplefilter(action='ignore', category=FutureWarning)"
   ]
  },
  {
   "cell_type": "code",
   "execution_count": 4,
   "id": "5b0f5da1-5cd9-4e39-9514-dc7228433ae4",
   "metadata": {
    "ExecuteTime": {
     "end_time": "2023-12-01T15:15:06.050672Z",
     "start_time": "2023-12-01T15:15:06.048755Z"
    }
   },
   "outputs": [],
   "source": [
    "try:\n",
    "    _create_unverified_https_context = ssl._create_unverified_context\n",
    "except AttributeError:\n",
    "    pass\n",
    "else:\n",
    "    ssl._create_default_https_context = _create_unverified_https_context\n"
   ]
  },
  {
   "cell_type": "code",
   "execution_count": 5,
   "id": "b292cb9f-0eec-4240-b673-d5df8e81b064",
   "metadata": {
    "ExecuteTime": {
     "end_time": "2023-12-01T15:15:08.645998Z",
     "start_time": "2023-12-01T15:15:08.304035Z"
    }
   },
   "outputs": [
    {
     "name": "stderr",
     "output_type": "stream",
     "text": [
      "[nltk_data] Downloading package punkt to /Users/sara/nltk_data...\n",
      "[nltk_data]   Package punkt is already up-to-date!\n",
      "[nltk_data] Downloading package stopwords to /Users/sara/nltk_data...\n",
      "[nltk_data]   Package stopwords is already up-to-date!\n",
      "[nltk_data] Downloading package wordnet to /Users/sara/nltk_data...\n",
      "[nltk_data]   Package wordnet is already up-to-date!\n"
     ]
    }
   ],
   "source": [
    "nltk.download('punkt')\n",
    "nltk.download (\"stopwords\");\n",
    "nltk.download (\"wordnet\");"
   ]
  },
  {
   "cell_type": "code",
   "execution_count": 6,
   "id": "640a8b66-eda0-45a5-9344-7cab3d4ab3b3",
   "metadata": {
    "ExecuteTime": {
     "end_time": "2023-12-01T15:16:08.789110Z",
     "start_time": "2023-12-01T15:16:08.770279Z"
    }
   },
   "outputs": [],
   "source": [
    "stopwords = nltk.corpus.stopwords.words (\"english\")\n",
    "stemmer = nltk.stem.PorterStemmer()"
   ]
  },
  {
   "cell_type": "markdown",
   "id": "25c66282-223f-401c-b959-016e7c72da10",
   "metadata": {},
   "source": [
    "## Functions"
   ]
  },
  {
   "cell_type": "markdown",
   "id": "3137e6ab-116a-4071-8548-830fa2f1a8d0",
   "metadata": {},
   "source": [
    "### XML File Parser:\n",
    "This function parses xml files (document files and queries) and extracts the text in the raw tag using regular expression"
   ]
  },
  {
   "cell_type": "code",
   "execution_count": 7,
   "id": "7b1e171f-5850-4369-ba5d-9c67b3606342",
   "metadata": {
    "ExecuteTime": {
     "end_time": "2023-12-01T15:17:23.979909Z",
     "start_time": "2023-12-01T15:17:23.973316Z"
    }
   },
   "outputs": [],
   "source": [
    "def parser(file_path):\n",
    "    # Open XML file\n",
    "    xml_file = open(file_path)\n",
    "    # Read file content\n",
    "    xml_text = xml_file.read()\n",
    "    # regex that matches all text preceded by '<raw><!\\[CDATA\\[' and followed by '\\]\\]></raw>' and including new lines to get the file content\n",
    "    pattern = '(?<=<raw><!\\[CDATA\\[).*(?=\\]\\]></raw>)'\n",
    "    match = re.search(pattern, xml_text, re.DOTALL)\n",
    "    # regex that matches all text preceded by '<fileDesc\\ title=\\\"' and followed by '\\\"\\ \\/>' and including new lines to get the file title\n",
    "    title_pattern = '(?<=<fileDesc\\ title=\\\").*?(?=\\\" \\/>)'\n",
    "    title = re.search(title_pattern, xml_text, re.DOTALL)\n",
    "    if match:\n",
    "        return (match.group(0), title.group(0)) if title else (match.group(0), None)\n",
    "    else:\n",
    "        return \"Tag not found\""
   ]
  },
  {
   "cell_type": "markdown",
   "source": [
    "### Preprocessing:\n",
    "This function takes a list of tokens and performs case-folding, stopwords filtering, and stemming"
   ],
   "metadata": {
    "collapsed": false
   },
   "id": "6dc317dc5cf59b52"
  },
  {
   "cell_type": "code",
   "execution_count": 8,
   "id": "c689810c-7b68-41f4-98a0-e95bda0f253a",
   "metadata": {
    "ExecuteTime": {
     "end_time": "2023-12-01T15:17:36.845408Z",
     "start_time": "2023-12-01T15:17:36.837797Z"
    }
   },
   "outputs": [],
   "source": [
    "def preprocess(text): \n",
    "    lowered = [token.lower() for token in text if token.isalpha()]\n",
    "    sw_filtered = [token for token in lowered if token not in stopwords]\n",
    "    stemmed = [stemmer.stem(token) for token in sw_filtered]\n",
    "    return lowered, sw_filtered, stemmed\n",
    "    "
   ]
  },
  {
   "cell_type": "markdown",
   "source": [
    "### Term Frequency:\n",
    "This function takes a document and returns a dictionary of terms and their normalized frequencies in the document"
   ],
   "metadata": {
    "collapsed": false
   },
   "id": "8808fe0ec21a5980"
  },
  {
   "cell_type": "code",
   "execution_count": 9,
   "id": "c30b2f1c-5405-4dbe-b32a-fb66f46e2544",
   "metadata": {
    "ExecuteTime": {
     "end_time": "2023-12-01T15:22:02.310324Z",
     "start_time": "2023-12-01T15:22:02.300398Z"
    }
   },
   "outputs": [],
   "source": [
    "def doc_term_freq(doc):\n",
    "    terms_freq = Counter(doc)\n",
    "    for i in terms_freq:\n",
    "        terms_freq[i] = terms_freq[i] / len(doc)\n",
    "    max_freq = max(terms_freq.values()) # get the maximum term frequency to normalize the term frequency\n",
    "    for i in terms_freq:\n",
    "        terms_freq[i] = terms_freq[i] / max_freq # normalize term frequency\n",
    "    return terms_freq"
   ]
  },
  {
   "cell_type": "markdown",
   "source": [
    "### Term IDF:\n",
    "This function takes a term and a list of documents and returns the IDF value of the term"
   ],
   "metadata": {
    "collapsed": false
   },
   "id": "a1d54b3d57c18604"
  },
  {
   "cell_type": "code",
   "execution_count": 10,
   "id": "bf28509e-9bfa-4f80-98bd-e4a8c3175eaf",
   "metadata": {
    "ExecuteTime": {
     "end_time": "2023-12-01T15:22:03.254831Z",
     "start_time": "2023-12-01T15:22:03.250256Z"
    }
   },
   "outputs": [],
   "source": [
    "def term_idf(term, docs):\n",
    "    docs_len = len(docs)\n",
    "    doc_freq = sum([1 for doc in docs if term in doc])\n",
    "    return math.log(docs_len / doc_freq)"
   ]
  },
  {
   "cell_type": "markdown",
   "source": [
    "### Cosine Similarity:\n",
    "This function takes a document vector and a query vector and returns the cosine similarity between them"
   ],
   "metadata": {
    "collapsed": false
   },
   "id": "450782cdae55f7e2"
  },
  {
   "cell_type": "code",
   "execution_count": 11,
   "id": "527eea1b-dae0-4543-ba79-756f4e86f173",
   "metadata": {
    "ExecuteTime": {
     "end_time": "2023-12-01T15:22:03.902748Z",
     "start_time": "2023-12-01T15:22:03.896525Z"
    }
   },
   "outputs": [],
   "source": [
    "def cos_sim(doc_vec, query_vec):\n",
    "    # Calculate the dot product of the doc vector and the query vector\n",
    "    dot_prod = sum([term1 * term2 for term1, term2 in zip(doc_vec, query_vec)])\n",
    "    # Calculate the magnitude of the doc vector and the query vector\n",
    "    mag_doc = math.sqrt(sum([term ** 2 for term in doc_vec]))\n",
    "    mag_query = math.sqrt(sum([term ** 2 for term in query_vec]))\n",
    "    \n",
    "    # Calculate cosine similarity\n",
    "    ## Check for division by zero\n",
    "    if mag_doc * mag_query == 0:\n",
    "        return 0\n",
    "    else:\n",
    "        return dot_prod / (mag_doc * mag_query)"
   ]
  },
  {
   "cell_type": "markdown",
   "id": "0bd4fe01-f674-4597-b64d-36ee2e6959a8",
   "metadata": {},
   "source": [
    "## Document Indexing"
   ]
  },
  {
   "cell_type": "markdown",
   "source": [
    "### Load documents dataset"
   ],
   "metadata": {
    "collapsed": false
   },
   "id": "18d8df6773c60a68"
  },
  {
   "cell_type": "code",
   "execution_count": 12,
   "id": "0b135e3b-5da8-46b9-a9fc-00ac1f96ef19",
   "metadata": {
    "ExecuteTime": {
     "end_time": "2023-12-01T15:22:15.704734Z",
     "start_time": "2023-12-01T15:22:15.701132Z"
    }
   },
   "outputs": [],
   "source": [
    "doc_dataset_dir = 'WES-Dataset/docs/'\n",
    "doc_files = os.listdir(doc_dataset_dir)"
   ]
  },
  {
   "cell_type": "markdown",
   "source": [
    "### Parse documents and store their contents and titles in a dictionary"
   ],
   "metadata": {
    "collapsed": false
   },
   "id": "562db14304230e64"
  },
  {
   "cell_type": "code",
   "execution_count": 13,
   "id": "87ff866e-52b1-4daf-9964-85fd64e6053f",
   "metadata": {
    "ExecuteTime": {
     "end_time": "2023-12-01T15:22:48.066967Z",
     "start_time": "2023-12-01T15:22:48.047990Z"
    }
   },
   "outputs": [],
   "source": [
    "doc_dict = dict()\n",
    "for doc in doc_files:\n",
    "    if not doc.startswith('.'):\n",
    "        xml_parsed, xml_title = parser(f'{doc_dataset_dir}{doc}')\n",
    "        doc_dict[doc]=[xml_parsed, xml_title]"
   ]
  },
  {
   "cell_type": "markdown",
   "source": [
    "### Preprocess documents: tokenisation, case-folding, Stopwords filtering, and stemming"
   ],
   "metadata": {
    "collapsed": false
   },
   "id": "7b83172c4d0a5c58"
  },
  {
   "cell_type": "code",
   "execution_count": 14,
   "id": "dd37c6e4-4b84-4d20-b42b-49c452c51244",
   "metadata": {
    "ExecuteTime": {
     "end_time": "2023-12-01T15:23:10.815041Z",
     "start_time": "2023-12-01T15:23:10.247601Z"
    }
   },
   "outputs": [],
   "source": [
    "doc_dict_tokenised = {doc:nltk.tokenize.word_tokenize(text[0]) for doc,text in doc_dict.items()}"
   ]
  },
  {
   "cell_type": "code",
   "execution_count": 15,
   "id": "04fdc71a-29a1-4011-8c97-373a62077839",
   "metadata": {
    "ExecuteTime": {
     "end_time": "2023-12-01T15:23:54.313505Z",
     "start_time": "2023-12-01T15:23:53.369775Z"
    }
   },
   "outputs": [],
   "source": [
    "doc_dict_lowered = dict()\n",
    "doc_dict_filtered = dict()\n",
    "doc_dict_stemmed = dict()\n",
    "for doc in doc_dict_tokenised.keys():\n",
    "    lowered, sw_filtered, stemmed = preprocess(doc_dict_tokenised[doc])\n",
    "    doc_dict_lowered[doc] = lowered\n",
    "    doc_dict_filtered[doc] = sw_filtered\n",
    "    doc_dict_stemmed[doc] = stemmed"
   ]
  },
  {
   "cell_type": "markdown",
   "source": [
    "### Creating the TF-IDF matrix"
   ],
   "metadata": {
    "collapsed": false
   },
   "id": "3fffab99795d1421"
  },
  {
   "cell_type": "code",
   "execution_count": 16,
   "id": "5e1bcd2f-256a-4f9a-ac7e-ffc7bf8b971f",
   "metadata": {
    "ExecuteTime": {
     "end_time": "2023-12-01T15:26:34.445424Z",
     "start_time": "2023-12-01T15:25:07.190638Z"
    }
   },
   "outputs": [],
   "source": [
    "docs = doc_dict_stemmed.values()\n",
    "term_set = set(term for doc in docs for term in doc)\n",
    "\n",
    "# Initialize TF-IDF matrix with zeros\n",
    "tfidf_matrix = pd.DataFrame(0, index=range(len(docs)), columns=list(term_set))\n",
    "\n",
    "# Compute IDF for each term\n",
    "idf_values = {}\n",
    "for term in term_set:\n",
    "    idf_values[term] = term_idf(term, docs)\n",
    "\n",
    "# Compute TF and then TF-IDF for each term in each document\n",
    "for doc_idx, document in enumerate(docs):\n",
    "    tf_values = doc_term_freq(document)\n",
    "    for term in term_set:\n",
    "        tf = tf_values[term]\n",
    "        tfidf_matrix.loc[doc_idx, term] = tf * idf_values[term]\n"
   ]
  },
  {
   "cell_type": "code",
   "execution_count": 17,
   "id": "e1cbc327-d8f2-456d-8563-25efa7a77b58",
   "metadata": {
    "ExecuteTime": {
     "end_time": "2023-12-01T15:29:11.308004Z",
     "start_time": "2023-12-01T15:29:11.272304Z"
    }
   },
   "outputs": [
    {
     "data": {
      "text/html": [
       "<div>\n",
       "<style scoped>\n",
       "    .dataframe tbody tr th:only-of-type {\n",
       "        vertical-align: middle;\n",
       "    }\n",
       "\n",
       "    .dataframe tbody tr th {\n",
       "        vertical-align: top;\n",
       "    }\n",
       "\n",
       "    .dataframe thead th {\n",
       "        text-align: right;\n",
       "    }\n",
       "</style>\n",
       "<table border=\"1\" class=\"dataframe\">\n",
       "  <thead>\n",
       "    <tr style=\"text-align: right;\">\n",
       "      <th></th>\n",
       "      <th>cyclop</th>\n",
       "      <th>herpetologist</th>\n",
       "      <th>cheyenn</th>\n",
       "      <th>hamilton</th>\n",
       "      <th>bute</th>\n",
       "      <th>hornblow</th>\n",
       "      <th>eighteenth</th>\n",
       "      <th>cimbri</th>\n",
       "      <th>australia</th>\n",
       "      <th>rudi</th>\n",
       "      <th>...</th>\n",
       "      <th>kill</th>\n",
       "      <th>heinz</th>\n",
       "      <th>orteliu</th>\n",
       "      <th>byssh</th>\n",
       "      <th>hebrid</th>\n",
       "      <th>dodonaea</th>\n",
       "      <th>universel</th>\n",
       "      <th>saxoni</th>\n",
       "      <th>trampl</th>\n",
       "      <th>multitask</th>\n",
       "    </tr>\n",
       "  </thead>\n",
       "  <tbody>\n",
       "    <tr>\n",
       "      <th>0</th>\n",
       "      <td>0.0</td>\n",
       "      <td>0.0</td>\n",
       "      <td>0.0</td>\n",
       "      <td>0.0</td>\n",
       "      <td>0.0</td>\n",
       "      <td>0.0</td>\n",
       "      <td>0.0</td>\n",
       "      <td>0.0</td>\n",
       "      <td>0.0</td>\n",
       "      <td>0.0</td>\n",
       "      <td>...</td>\n",
       "      <td>0.0</td>\n",
       "      <td>0.0</td>\n",
       "      <td>0.0</td>\n",
       "      <td>0.0</td>\n",
       "      <td>0.0</td>\n",
       "      <td>0.0</td>\n",
       "      <td>0.0</td>\n",
       "      <td>0.0</td>\n",
       "      <td>0.0</td>\n",
       "      <td>0.0</td>\n",
       "    </tr>\n",
       "    <tr>\n",
       "      <th>1</th>\n",
       "      <td>0.0</td>\n",
       "      <td>0.0</td>\n",
       "      <td>0.0</td>\n",
       "      <td>0.0</td>\n",
       "      <td>0.0</td>\n",
       "      <td>0.0</td>\n",
       "      <td>0.0</td>\n",
       "      <td>0.0</td>\n",
       "      <td>0.0</td>\n",
       "      <td>0.0</td>\n",
       "      <td>...</td>\n",
       "      <td>0.0</td>\n",
       "      <td>0.0</td>\n",
       "      <td>0.0</td>\n",
       "      <td>0.0</td>\n",
       "      <td>0.0</td>\n",
       "      <td>0.0</td>\n",
       "      <td>0.0</td>\n",
       "      <td>0.0</td>\n",
       "      <td>0.0</td>\n",
       "      <td>0.0</td>\n",
       "    </tr>\n",
       "    <tr>\n",
       "      <th>2</th>\n",
       "      <td>0.0</td>\n",
       "      <td>0.0</td>\n",
       "      <td>0.0</td>\n",
       "      <td>0.0</td>\n",
       "      <td>0.0</td>\n",
       "      <td>0.0</td>\n",
       "      <td>0.0</td>\n",
       "      <td>0.0</td>\n",
       "      <td>0.0</td>\n",
       "      <td>0.0</td>\n",
       "      <td>...</td>\n",
       "      <td>0.0</td>\n",
       "      <td>0.0</td>\n",
       "      <td>0.0</td>\n",
       "      <td>0.0</td>\n",
       "      <td>0.0</td>\n",
       "      <td>0.0</td>\n",
       "      <td>0.0</td>\n",
       "      <td>0.0</td>\n",
       "      <td>0.0</td>\n",
       "      <td>0.0</td>\n",
       "    </tr>\n",
       "    <tr>\n",
       "      <th>3</th>\n",
       "      <td>0.0</td>\n",
       "      <td>0.0</td>\n",
       "      <td>0.0</td>\n",
       "      <td>0.0</td>\n",
       "      <td>0.0</td>\n",
       "      <td>0.0</td>\n",
       "      <td>0.0</td>\n",
       "      <td>0.0</td>\n",
       "      <td>0.0</td>\n",
       "      <td>0.0</td>\n",
       "      <td>...</td>\n",
       "      <td>0.0</td>\n",
       "      <td>0.0</td>\n",
       "      <td>0.0</td>\n",
       "      <td>0.0</td>\n",
       "      <td>0.0</td>\n",
       "      <td>0.0</td>\n",
       "      <td>0.0</td>\n",
       "      <td>0.0</td>\n",
       "      <td>0.0</td>\n",
       "      <td>0.0</td>\n",
       "    </tr>\n",
       "    <tr>\n",
       "      <th>4</th>\n",
       "      <td>0.0</td>\n",
       "      <td>0.0</td>\n",
       "      <td>0.0</td>\n",
       "      <td>0.0</td>\n",
       "      <td>0.0</td>\n",
       "      <td>0.0</td>\n",
       "      <td>0.0</td>\n",
       "      <td>0.0</td>\n",
       "      <td>0.0</td>\n",
       "      <td>0.0</td>\n",
       "      <td>...</td>\n",
       "      <td>0.0</td>\n",
       "      <td>0.0</td>\n",
       "      <td>0.0</td>\n",
       "      <td>0.0</td>\n",
       "      <td>0.0</td>\n",
       "      <td>0.0</td>\n",
       "      <td>0.0</td>\n",
       "      <td>0.0</td>\n",
       "      <td>0.0</td>\n",
       "      <td>0.0</td>\n",
       "    </tr>\n",
       "    <tr>\n",
       "      <th>...</th>\n",
       "      <td>...</td>\n",
       "      <td>...</td>\n",
       "      <td>...</td>\n",
       "      <td>...</td>\n",
       "      <td>...</td>\n",
       "      <td>...</td>\n",
       "      <td>...</td>\n",
       "      <td>...</td>\n",
       "      <td>...</td>\n",
       "      <td>...</td>\n",
       "      <td>...</td>\n",
       "      <td>...</td>\n",
       "      <td>...</td>\n",
       "      <td>...</td>\n",
       "      <td>...</td>\n",
       "      <td>...</td>\n",
       "      <td>...</td>\n",
       "      <td>...</td>\n",
       "      <td>...</td>\n",
       "      <td>...</td>\n",
       "      <td>...</td>\n",
       "    </tr>\n",
       "    <tr>\n",
       "      <th>326</th>\n",
       "      <td>0.0</td>\n",
       "      <td>0.0</td>\n",
       "      <td>0.0</td>\n",
       "      <td>0.0</td>\n",
       "      <td>0.0</td>\n",
       "      <td>0.0</td>\n",
       "      <td>0.0</td>\n",
       "      <td>0.0</td>\n",
       "      <td>0.0</td>\n",
       "      <td>0.0</td>\n",
       "      <td>...</td>\n",
       "      <td>0.0</td>\n",
       "      <td>0.0</td>\n",
       "      <td>0.0</td>\n",
       "      <td>0.0</td>\n",
       "      <td>0.0</td>\n",
       "      <td>0.0</td>\n",
       "      <td>0.0</td>\n",
       "      <td>0.0</td>\n",
       "      <td>0.0</td>\n",
       "      <td>0.0</td>\n",
       "    </tr>\n",
       "    <tr>\n",
       "      <th>327</th>\n",
       "      <td>0.0</td>\n",
       "      <td>0.0</td>\n",
       "      <td>0.0</td>\n",
       "      <td>0.0</td>\n",
       "      <td>0.0</td>\n",
       "      <td>0.0</td>\n",
       "      <td>0.0</td>\n",
       "      <td>0.0</td>\n",
       "      <td>0.0</td>\n",
       "      <td>0.0</td>\n",
       "      <td>...</td>\n",
       "      <td>0.0</td>\n",
       "      <td>0.0</td>\n",
       "      <td>0.0</td>\n",
       "      <td>0.0</td>\n",
       "      <td>0.0</td>\n",
       "      <td>0.0</td>\n",
       "      <td>0.0</td>\n",
       "      <td>0.0</td>\n",
       "      <td>0.0</td>\n",
       "      <td>0.0</td>\n",
       "    </tr>\n",
       "    <tr>\n",
       "      <th>328</th>\n",
       "      <td>0.0</td>\n",
       "      <td>0.0</td>\n",
       "      <td>0.0</td>\n",
       "      <td>0.0</td>\n",
       "      <td>0.0</td>\n",
       "      <td>0.0</td>\n",
       "      <td>0.0</td>\n",
       "      <td>0.0</td>\n",
       "      <td>0.0</td>\n",
       "      <td>0.0</td>\n",
       "      <td>...</td>\n",
       "      <td>0.0</td>\n",
       "      <td>0.0</td>\n",
       "      <td>0.0</td>\n",
       "      <td>0.0</td>\n",
       "      <td>0.0</td>\n",
       "      <td>0.0</td>\n",
       "      <td>0.0</td>\n",
       "      <td>0.0</td>\n",
       "      <td>0.0</td>\n",
       "      <td>0.0</td>\n",
       "    </tr>\n",
       "    <tr>\n",
       "      <th>329</th>\n",
       "      <td>0.0</td>\n",
       "      <td>0.0</td>\n",
       "      <td>0.0</td>\n",
       "      <td>0.0</td>\n",
       "      <td>0.0</td>\n",
       "      <td>0.0</td>\n",
       "      <td>0.0</td>\n",
       "      <td>0.0</td>\n",
       "      <td>0.0</td>\n",
       "      <td>0.0</td>\n",
       "      <td>...</td>\n",
       "      <td>0.0</td>\n",
       "      <td>0.0</td>\n",
       "      <td>0.0</td>\n",
       "      <td>0.0</td>\n",
       "      <td>0.0</td>\n",
       "      <td>0.0</td>\n",
       "      <td>0.0</td>\n",
       "      <td>0.0</td>\n",
       "      <td>0.0</td>\n",
       "      <td>0.0</td>\n",
       "    </tr>\n",
       "    <tr>\n",
       "      <th>330</th>\n",
       "      <td>0.0</td>\n",
       "      <td>0.0</td>\n",
       "      <td>0.0</td>\n",
       "      <td>0.0</td>\n",
       "      <td>0.0</td>\n",
       "      <td>0.0</td>\n",
       "      <td>0.0</td>\n",
       "      <td>0.0</td>\n",
       "      <td>0.0</td>\n",
       "      <td>0.0</td>\n",
       "      <td>...</td>\n",
       "      <td>0.0</td>\n",
       "      <td>0.0</td>\n",
       "      <td>0.0</td>\n",
       "      <td>0.0</td>\n",
       "      <td>0.0</td>\n",
       "      <td>0.0</td>\n",
       "      <td>0.0</td>\n",
       "      <td>0.0</td>\n",
       "      <td>0.0</td>\n",
       "      <td>0.0</td>\n",
       "    </tr>\n",
       "  </tbody>\n",
       "</table>\n",
       "<p>331 rows × 12463 columns</p>\n",
       "</div>"
      ],
      "text/plain": [
       "     cyclop  herpetologist  cheyenn  hamilton  bute  hornblow  eighteenth  \\\n",
       "0       0.0            0.0      0.0       0.0   0.0       0.0         0.0   \n",
       "1       0.0            0.0      0.0       0.0   0.0       0.0         0.0   \n",
       "2       0.0            0.0      0.0       0.0   0.0       0.0         0.0   \n",
       "3       0.0            0.0      0.0       0.0   0.0       0.0         0.0   \n",
       "4       0.0            0.0      0.0       0.0   0.0       0.0         0.0   \n",
       "..      ...            ...      ...       ...   ...       ...         ...   \n",
       "326     0.0            0.0      0.0       0.0   0.0       0.0         0.0   \n",
       "327     0.0            0.0      0.0       0.0   0.0       0.0         0.0   \n",
       "328     0.0            0.0      0.0       0.0   0.0       0.0         0.0   \n",
       "329     0.0            0.0      0.0       0.0   0.0       0.0         0.0   \n",
       "330     0.0            0.0      0.0       0.0   0.0       0.0         0.0   \n",
       "\n",
       "     cimbri  australia  rudi  ...  kill  heinz  orteliu  byssh  hebrid  \\\n",
       "0       0.0        0.0   0.0  ...   0.0    0.0      0.0    0.0     0.0   \n",
       "1       0.0        0.0   0.0  ...   0.0    0.0      0.0    0.0     0.0   \n",
       "2       0.0        0.0   0.0  ...   0.0    0.0      0.0    0.0     0.0   \n",
       "3       0.0        0.0   0.0  ...   0.0    0.0      0.0    0.0     0.0   \n",
       "4       0.0        0.0   0.0  ...   0.0    0.0      0.0    0.0     0.0   \n",
       "..      ...        ...   ...  ...   ...    ...      ...    ...     ...   \n",
       "326     0.0        0.0   0.0  ...   0.0    0.0      0.0    0.0     0.0   \n",
       "327     0.0        0.0   0.0  ...   0.0    0.0      0.0    0.0     0.0   \n",
       "328     0.0        0.0   0.0  ...   0.0    0.0      0.0    0.0     0.0   \n",
       "329     0.0        0.0   0.0  ...   0.0    0.0      0.0    0.0     0.0   \n",
       "330     0.0        0.0   0.0  ...   0.0    0.0      0.0    0.0     0.0   \n",
       "\n",
       "     dodonaea  universel  saxoni  trampl  multitask  \n",
       "0         0.0        0.0     0.0     0.0        0.0  \n",
       "1         0.0        0.0     0.0     0.0        0.0  \n",
       "2         0.0        0.0     0.0     0.0        0.0  \n",
       "3         0.0        0.0     0.0     0.0        0.0  \n",
       "4         0.0        0.0     0.0     0.0        0.0  \n",
       "..        ...        ...     ...     ...        ...  \n",
       "326       0.0        0.0     0.0     0.0        0.0  \n",
       "327       0.0        0.0     0.0     0.0        0.0  \n",
       "328       0.0        0.0     0.0     0.0        0.0  \n",
       "329       0.0        0.0     0.0     0.0        0.0  \n",
       "330       0.0        0.0     0.0     0.0        0.0  \n",
       "\n",
       "[331 rows x 12463 columns]"
      ]
     },
     "execution_count": 17,
     "metadata": {},
     "output_type": "execute_result"
    }
   ],
   "source": [
    "tfidf_matrix"
   ]
  },
  {
   "cell_type": "markdown",
   "id": "1b1fa26b-8045-4b82-8c8e-6ef18e6ca320",
   "metadata": {},
   "source": [
    "## Querying"
   ]
  },
  {
   "cell_type": "markdown",
   "id": "6140d03d-3298-4315-879e-2ee4447a5fcb",
   "metadata": {},
   "source": [
    "### Load queries dataset"
   ]
  },
  {
   "cell_type": "code",
   "execution_count": 18,
   "id": "9ab5b20c-7164-48d0-88ea-ebb8540f01d9",
   "metadata": {
    "ExecuteTime": {
     "end_time": "2023-12-01T15:33:09.340664Z",
     "start_time": "2023-12-01T15:33:09.333465Z"
    }
   },
   "outputs": [],
   "source": [
    "query_dataset_dir = 'WES-Dataset/queries/'\n",
    "queries_files = os.listdir(query_dataset_dir) # load list of query files names"
   ]
  },
  {
   "cell_type": "markdown",
   "id": "2eb7b18e-dfa7-47e9-816f-1fac7727ddf8",
   "metadata": {},
   "source": [
    "### Select a random query from the queries dataset"
   ]
  },
  {
   "cell_type": "code",
   "execution_count": 19,
   "id": "2d207c55-904e-4527-9b5a-4908f18e99d8",
   "metadata": {
    "ExecuteTime": {
     "end_time": "2023-12-01T15:33:21.413205Z",
     "start_time": "2023-12-01T15:33:21.405556Z"
    }
   },
   "outputs": [],
   "source": [
    "idx = random.randint(0,len(queries_files)-1) # Generate a random number from the range [0, # of queries files] \n",
    "query = queries_files[idx] # Load the query"
   ]
  },
  {
   "cell_type": "markdown",
   "id": "6b01052b-87f2-47ad-8808-5bf9493baee2",
   "metadata": {},
   "source": [
    "### Preprocess the query: parsing, tokenisation, case-folding, Stopwords filtering, and stemming"
   ]
  },
  {
   "cell_type": "code",
   "execution_count": 20,
   "id": "f9ca9205-50e4-4972-b4d7-1118a144906f",
   "metadata": {
    "ExecuteTime": {
     "end_time": "2023-12-01T15:33:34.299635Z",
     "start_time": "2023-12-01T15:33:34.295715Z"
    }
   },
   "outputs": [],
   "source": [
    "query_parsed = parser(f'{query_dataset_dir}{query}') # Parsing\n",
    "query_tokenised = nltk.tokenize.word_tokenize(query_parsed[0]) # Tokenising\n",
    "query_lowered, query_sw_filtered, query_stemmed = preprocess(query_tokenised) # Case-folding, Stopwords filtering, and stemming"
   ]
  },
  {
   "cell_type": "code",
   "execution_count": 21,
   "id": "c92ecd82-a9b8-4a81-889a-7f97cb4e12d1",
   "metadata": {
    "ExecuteTime": {
     "end_time": "2023-12-01T15:33:39.088031Z",
     "start_time": "2023-12-01T15:33:39.080373Z"
    }
   },
   "outputs": [
    {
     "name": "stdout",
     "output_type": "stream",
     "text": [
      "Selected query: wes2015.q02.naf\n",
      "Query after parsing: famous German poetry\n",
      "Query after tokenisation: ['famous', 'German', 'poetry']\n",
      "Query after case-folding: ['famous', 'german', 'poetry']\n",
      "Query after stopwords filtering: ['famous', 'german', 'poetry']\n",
      "Query after stemming: ['famou', 'german', 'poetri']\n"
     ]
    }
   ],
   "source": [
    "print(f'Selected query: {query}')\n",
    "print(f'Query after parsing: {query_parsed[0]}')\n",
    "print(f'Query after tokenisation: {query_tokenised}')\n",
    "print(f'Query after case-folding: {query_lowered}')\n",
    "print(f'Query after stopwords filtering: {query_sw_filtered}')\n",
    "print(f'Query after stemming: {query_stemmed}')"
   ]
  },
  {
   "cell_type": "markdown",
   "id": "63d65391-0867-45ea-b967-d19884cc08e5",
   "metadata": {},
   "source": [
    "### Creating the query TF-IDF vector"
   ]
  },
  {
   "cell_type": "code",
   "execution_count": 22,
   "id": "9f071dcf-8064-4e6f-8fc4-a92e9af0399f",
   "metadata": {
    "ExecuteTime": {
     "end_time": "2023-12-01T15:34:10.610155Z",
     "start_time": "2023-12-01T15:34:10.606496Z"
    }
   },
   "outputs": [],
   "source": [
    "# getting the query term frequencies\n",
    "query_tf = doc_term_freq(query_stemmed) \n",
    "# creating a dictionary of terms - tfidf values using docs idf values\n",
    "query_tfidf = {term: query_tf.get(term, 0) * idf_values.get(term, 0) for term in idf_values.keys()} \n",
    "# getting the tf-idf values in a vector\n",
    "query_vec = query_tfidf.values()"
   ]
  },
  {
   "cell_type": "markdown",
   "source": [
    "### Calculating the similarity between the query and the documents"
   ],
   "metadata": {
    "collapsed": false
   },
   "id": "350769d37413287d"
  },
  {
   "cell_type": "code",
   "execution_count": 23,
   "id": "1cca9024-dee0-4872-a508-6b0cf1573314",
   "metadata": {
    "ExecuteTime": {
     "end_time": "2023-12-01T15:34:17.338280Z",
     "start_time": "2023-12-01T15:34:14.198512Z"
    }
   },
   "outputs": [],
   "source": [
    "sim_matrix = dict() # doc - query similarity dictionary\n",
    "for i in range(len(docs)):\n",
    "    sim_matrix[i] = cos_sim(tfidf_matrix.loc[i], query_vec) # storing cos similarity scores in the dictionary"
   ]
  },
  {
   "cell_type": "markdown",
   "id": "b7c08b05-5501-4a75-99ab-96939613cb31",
   "metadata": {},
   "source": [
    "### Results"
   ]
  },
  {
   "cell_type": "code",
   "execution_count": 27,
   "id": "90bf8457-aaf5-4abd-ab33-7a0198b6ba43",
   "metadata": {
    "ExecuteTime": {
     "end_time": "2023-12-01T15:36:51.969514Z",
     "start_time": "2023-12-01T15:36:51.964254Z"
    }
   },
   "outputs": [
    {
     "name": "stdout",
     "output_type": "stream",
     "text": [
      "File index: 287, File name: wes2015.d153.naf, Title: Niccoló Paganini – the Devil’s Violinist, Similarit score: 0.12519047646188491\n",
      "File index: 247, File name: wes2015.d283.naf, Title: Georg Friedrich Philipp von Hardenberg aka Novalis, Similarit score: 0.07911908341142271\n",
      "File index: 55, File name: wes2015.d149.naf, Title: The Poetry of Walt Whitman, Similarit score: 0.06417806044588133\n",
      "File index: 195, File name: wes2015.d291.naf, Title: August Wilhelm Schlegel and his Shakespeare Translations, Similarit score: 0.05282726698187367\n",
      "File index: 214, File name: wes2015.d134.naf, Title: Niemand hat die Absicht eine Mauer zu bauen!, Similarit score: 0.04830334140833313\n",
      "File index: 157, File name: wes2015.d293.naf, Title: The Works of Heinrich Mann, Similarit score: 0.04099612191871252\n",
      "File index: 294, File name: wes2015.d037.naf, Title: Albrecht von Haller – Father of Modern Physiology, Similarit score: 0.03892203667084831\n",
      "File index: 243, File name: wes2015.d136.naf, Title: William Butler Yeats and Modern English Literature, Similarit score: 0.03556542071224781\n",
      "File index: 33, File name: wes2015.d002.naf, Title: Selma Lagerlöf and the wonderful Adventures of Niels Holgersson, Similarit score: 0.032946418586858685\n",
      "File index: 293, File name: wes2015.d033.naf, Title: Vannoccio Biringuccio and the Art of Metalworking, Similarit score: 0.02792151740416049\n",
      "File index: 96, File name: wes2015.d139.naf, Title: Life and Legend of Frederick Barbarossa, Similarit score: 0.02614626798387153\n",
      "File index: 265, File name: wes2015.d186.naf, Title: Laurens Hammond and the Hammond Organ, Similarit score: 0.024106270571062027\n",
      "File index: 298, File name: wes2015.d209.naf, Title: Donald Knuth and the Art of Programming, Similarit score: 0.024079815601753124\n",
      "File index: 62, File name: wes2015.d014.naf, Title: Hermann ‘Klecks’ Rorschach and his Eponymous Test, Similarit score: 0.024079238620716703\n",
      "File index: 236, File name: wes2015.d282.naf, Title: Ulugh Beg – Astronomer, Similarit score: 0.022212227526983753\n",
      "File index: 268, File name: wes2015.d144.naf, Title: The Bose-Einstein Condensate brings Quantum Theory to the Macroscopic Scale, Similarit score: 0.0213700354583392\n",
      "File index: 150, File name: wes2015.d052.naf, Title: The Unfortunate Inventions of Charles Cros, Similarit score: 0.021056437781275698\n",
      "File index: 158, File name: wes2015.d318.naf, Title: August Wilhelm Iffland and the Iffland Ring, Similarit score: 0.019790925741390283\n",
      "File index: 119, File name: wes2015.d316.naf, Title: The Passionate Life of Charlotte Brontë, Similarit score: 0.0197883205981819\n",
      "File index: 15, File name: wes2015.d039.naf, Title: Pythagoras and his Eponymous Theorem, Similarit score: 0.017306020329870917\n",
      "File index: 221, File name: wes2015.d294.naf, Title: The Visions of Emanuel Swedenborg, Similarit score: 0.017024473510759884\n",
      "File index: 237, File name: wes2015.d296.naf, Title: The psychologist must study mankind from the historical or comparative standpoint – Moritz Lazarus, Similarit score: 0.016650465483548062\n",
      "File index: 72, File name: wes2015.d107.naf, Title: Pablo Picasso’s Guernica, Similarit score: 0.016254102338629863\n",
      "File index: 116, File name: wes2015.d128.naf, Title: Franz Kruckenberg’s Schienenzeppelin, Similarit score: 0.016172650525595307\n",
      "File index: 248, File name: wes2015.d268.naf, Title: Walter Bruch and the PAL Color Television System, Similarit score: 0.016166334022356187\n",
      "File index: 138, File name: wes2015.d103.naf, Title: The World of Lyonel Feininger, Similarit score: 0.015840106672469986\n",
      "File index: 314, File name: wes2015.d008.naf, Title: Leo Baekeland and the Beginning of the Plastic Age, Similarit score: 0.01574497086327984\n",
      "File index: 26, File name: wes2015.d166.naf, Title: The Airplanes of Claude Dornier, Similarit score: 0.014786472878778064\n",
      "File index: 178, File name: wes2015.d051.naf, Title: Willy Ley – Founder of the German Rocket Society, Similarit score: 0.013924982931350995\n",
      "File index: 173, File name: wes2015.d090.naf, Title: Marius and the Battle of the Raudine Plain, Similarit score: 0.012712984924092055\n",
      "File index: 262, File name: wes2015.d151.naf, Title: Johann Heinrich von Mädler and the First Accurate Map of the Moon, Similarit score: 0.012385866632520351\n",
      "File index: 240, File name: wes2015.d137.naf, Title: The Diary of Anne Frank, Similarit score: 0.01237181053948191\n",
      "File index: 156, File name: wes2015.d287.naf, Title: How Ötzi became World Famous, Similarit score: 0.01218712741490948\n",
      "File index: 191, File name: wes2015.d124.naf, Title: Hermann Oberth’s Dream of Space Travel, Similarit score: 0.012152758026877826\n",
      "File index: 197, File name: wes2015.d252.naf, Title: Lejeune Dirichlet and the Mathematical Function, Similarit score: 0.011747803871816141\n",
      "File index: 89, File name: wes2015.d306.naf, Title: Georg Simmel – First Generation Sociologist, Similarit score: 0.011298131826418912\n",
      "File index: 305, File name: wes2015.d156.naf, Title: Aviatrix Amy Johnson and the Flight to Australia, Similarit score: 0.011263740135751541\n",
      "File index: 189, File name: wes2015.d131.naf, Title: Jürgen Habermas and Communicative Rationality, Similarit score: 0.011095353102408981\n",
      "File index: 73, File name: wes2015.d106.naf, Title: August Kekulé and the Carbon Ring Structure, Similarit score: 0.011013387884037775\n",
      "File index: 155, File name: wes2015.d250.naf, Title: Erich von Drygalski’s Antarctic Expeditions, Similarit score: 0.01100633621467151\n",
      "File index: 187, File name: wes2015.d119.naf, Title: Adolf Furtwängler and Photographic Archeology, Similarit score: 0.01096875488735052\n",
      "File index: 7, File name: wes2015.d164.naf, Title: The Phantastic Travels of Adelbert von Chamisso, Similarit score: 0.010540129698288145\n",
      "File index: 139, File name: wes2015.d117.naf, Title: Hans Bethe and the Energy of the Stars, Similarit score: 0.010486745479457386\n",
      "File index: 245, File name: wes2015.d320.naf, Title: William Wilson and the First German Railway, Similarit score: 0.010259917548565234\n",
      "File index: 19, File name: wes2015.d211.naf, Title: Konrad Zuse – The Inventor of the Computer, Similarit score: 0.010068222745010253\n",
      "File index: 215, File name: wes2015.d108.naf, Title: Samuel Goudsmit and the Electron Spin, Similarit score: 0.010058352781043329\n",
      "File index: 83, File name: wes2015.d058.naf, Title: Ernst Curtius and the Excavation of Olympia, Similarit score: 0.009983211950371385\n",
      "File index: 282, File name: wes2015.d152.naf, Title: Thomas Moore – Ireland’s National Bard, Similarit score: 0.009533325628564722\n",
      "File index: 249, File name: wes2015.d254.naf, Title: Henry Steinway and the Grand Pianos, Similarit score: 0.009444367247070151\n",
      "File index: 184, File name: wes2015.d290.naf, Title: Bernard Siegfried Albinus and his Anatomic Works, Similarit score: 0.008772219288384587\n",
      "File index: 132, File name: wes2015.d248.naf, Title: Joseph Priestley and the Discovery of Oxygen, Similarit score: 0.008368203794636871\n",
      "File index: 311, File name: wes2015.d036.naf, Title: Socrates and the Socratic Method, Similarit score: 0.008324928707531591\n",
      "File index: 25, File name: wes2015.d172.naf, Title: Mary the Jewess and the Origins of Chemistry, Similarit score: 0.00822725332345297\n",
      "File index: 57, File name: wes2015.d160.naf, Title: Abraham Ortelius and the Theatrum Orbis Terrarum, Similarit score: 0.00814308219143423\n",
      "File index: 149, File name: wes2015.d046.naf, Title: Richard Leuckart and the Tapeworm, Similarit score: 0.008132210345757177\n",
      "File index: 257, File name: wes2015.d031.naf, Title: The Planetary Tables of Erasmus Reinhold, Similarit score: 0.007735962406681522\n",
      "File index: 308, File name: wes2015.d220.naf, Title: It's Computable - thanks to Alonzo Church, Similarit score: 0.007601257319610554\n",
      "File index: 319, File name: wes2015.d168.naf, Title: Florence Nightingale – The Lady with the Lamp, Similarit score: 0.007545646162020713\n",
      "File index: 47, File name: wes2015.d017.naf, Title: Edvard Munch and the Munch Affair, Similarit score: 0.007481227698539061\n",
      "File index: 176, File name: wes2015.d047.naf, Title: Richard Dedekind and the Real Numbers, Similarit score: 0.0070338570348876545\n",
      "File index: 326, File name: wes2015.d155.naf, Title: The First US Space Station Skylab, Similarit score: 0.006834938845276421\n",
      "File index: 274, File name: wes2015.d024.naf, Title: Othniel Charles Marsh and the Great Bone Wars, Similarit score: 0.006760030707788635\n",
      "File index: 22, File name: wes2015.d173.naf, Title: Carl Hagenbeck and the Modern Zoo, Similarit score: 0.006738238041122068\n",
      "File index: 196, File name: wes2015.d246.naf, Title: Dmitri Mendeleev and the Periodic Table of Elements, Similarit score: 0.006652637198676106\n",
      "File index: 17, File name: wes2015.d007.naf, Title: Bernard Mandeville and the Fable of the Bees, Similarit score: 0.006582072514305152\n",
      "File index: 200, File name: wes2015.d044.naf, Title: Karl Schwarzschild and the Event Horizon, Similarit score: 0.006161323938684722\n",
      "File index: 296, File name: wes2015.d235.naf, Title: Pierre Gassendi and his Trials to reconcile Epicurean atomism with Christianity, Similarit score: 0.006046331398510173\n",
      "File index: 70, File name: wes2015.d305.naf, Title: Abraham Werner and the School of Neptunism, Similarit score: 0.00592840908866615\n",
      "File index: 171, File name: wes2015.d245.naf, Title: Charles Green and his Record Balloon Flight, Similarit score: 0.005826615736424873\n",
      "File index: 267, File name: wes2015.d193.naf, Title: E.F. Codd and the Relational Database Model, Similarit score: 0.005740411469879449\n",
      "File index: 260, File name: wes2015.d233.naf, Title: The Steel of Sir Henry Bessemer, Similarit score: 0.005466552459967557\n",
      "File index: 60, File name: wes2015.d202.naf, Title: John Atanasoff and the first Electronic Digital Computer, Similarit score: 0.005445545685786071\n",
      "File index: 207, File name: wes2015.d083.naf, Title: Girolamo Fracastoro’s Germ Theory, Similarit score: 0.0052818165661826615\n",
      "File index: 78, File name: wes2015.d264.naf, Title: Giovanni Battista Morgagni and the Science of Anatomy, Similarit score: 0.005254065796462165\n",
      "File index: 205, File name: wes2015.d068.naf, Title: Paul Nipkow and the Picture Scanning Technology, Similarit score: 0.005185190188675207\n",
      "File index: 43, File name: wes2015.d229.naf, Title: Johannes Schöner and his Globes, Similarit score: 0.005184080308884471\n",
      "File index: 261, File name: wes2015.d179.naf, Title: Orson Welles’ Citizen Kane, Similarit score: 0.005150083526019926\n",
      "File index: 5, File name: wes2015.d158.naf, Title: Hergé and the Adventures of Tintin, Similarit score: 0.005119099856076273\n",
      "File index: 309, File name: wes2015.d234.naf, Title: Simon Marius and his Astronomical Discoveries, Similarit score: 0.005103273953259148\n",
      "File index: 36, File name: wes2015.d228.naf, Title: Friedrich Schiller ‘The Robbers’, Similarit score: 0.00506452151741751\n",
      "File index: 136, File name: wes2015.d116.naf, Title: Ottmar Mergenthaler – a Second Gutenberg, Similarit score: 0.0050590650044663255\n",
      "File index: 170, File name: wes2015.d251.naf, Title: Leo Szilard and the Atomic Bomb, Similarit score: 0.004877685710067191\n",
      "File index: 222, File name: wes2015.d243.naf, Title: Johannes Hevelius and his Selenographia, Similarit score: 0.004845933754998933\n",
      "File index: 300, File name: wes2015.d157.naf, Title: The Legend of Bonnie and Clyde, Similarit score: 0.004763707089044151\n",
      "File index: 330, File name: wes2015.d035.naf, Title: Nicholas Culpeper and the Complete Herbs of England, Similarit score: 0.004759722702672732\n",
      "File index: 50, File name: wes2015.d029.naf, Title: Charles Joseph Minard and the Art of Infographics, Similarit score: 0.0047256770055674364\n",
      "File index: 109, File name: wes2015.d263.naf, Title: Camille Flammarion and his Balancing Act between Popular Science and Science Fiction, Similarit score: 0.004678755802561268\n",
      "File index: 45, File name: wes2015.d215.naf, Title: Charles Babbage – The Father of the Computer who hated Street Music, Similarit score: 0.004628575941327641\n",
      "File index: 85, File name: wes2015.d064.naf, Title: Man Ray and the Art of Photograms, Similarit score: 0.004612448335437819\n",
      "File index: 218, File name: wes2015.d121.naf, Title: Maria Goeppert Mayer and the Nuclear Shell Model, Similarit score: 0.0045803575500821024\n",
      "File index: 98, File name: wes2015.d307.naf, Title: Carl Jacobi and the Elliptic Functions, Similarit score: 0.004545421528002871\n",
      "File index: 65, File name: wes2015.d098.naf, Title: Friedrich Bessel and the Distances of Stars, Similarit score: 0.004512839458808373\n",
      "File index: 203, File name: wes2015.d054.naf, Title: Fritz Kahn and the Mensch Maschine, Similarit score: 0.00448732440442071\n",
      "File index: 18, File name: wes2015.d239.naf, Title: Fabian von Bellingshausen and the Discovery of Antarctica, Similarit score: 0.004400236363039719\n",
      "File index: 28, File name: wes2015.d210.naf, Title: Joseph Weizenbaum and his famous Eliza, Similarit score: 0.004369019511784672\n",
      "File index: 224, File name: wes2015.d082.naf, Title: Victor Franz Hess and the Cosmic Radiation, Similarit score: 0.0043293362323900434\n",
      "File index: 167, File name: wes2015.d319.naf, Title: The Natural History Museum in London, Similarit score: 0.0042572983900915256\n",
      "File index: 286, File name: wes2015.d184.naf, Title: John James Audubon’s Birds of America, Similarit score: 0.004122574445034128\n",
      "File index: 255, File name: wes2015.d019.naf, Title: Daniel Rutherford and the isolation of Nitrogen, Similarit score: 0.0040299203547690355\n",
      "File index: 27, File name: wes2015.d204.naf, Title: Space Invaders!, Similarit score: 0.004002977686486119\n",
      "File index: 130, File name: wes2015.d260.naf, Title: Frank P. Ramsey and the Ramsey Theory, Similarit score: 0.003962799872396141\n",
      "File index: 254, File name: wes2015.d042.naf, Title: Heinrich Olbers and the Olbers’ Paradox, Similarit score: 0.0039044902688687424\n",
      "File index: 127, File name: wes2015.d062.naf, Title: Werner Forssmann and the dangerous Self Experiment in Cardiac Catheterization, Similarit score: 0.0038450888778927077\n",
      "File index: 316, File name: wes2015.d236.naf, Title: John Fitch and the Steam Boat, Similarit score: 0.003738393975856028\n",
      "File index: 242, File name: wes2015.d122.naf, Title: Sophie Germain and the Chladni Experiment, Similarit score: 0.0036728640446452286\n",
      "File index: 3, File name: wes2015.d206.naf, Title: Amusing Ourselves to Death by Neil Postman, Similarit score: 0.0036485471677017243\n",
      "File index: 317, File name: wes2015.d154.naf, Title: August von Parseval`s Airships, Similarit score: 0.0036233490559429244\n",
      "File index: 190, File name: wes2015.d130.naf, Title: Ernst Boris Chain and his Research on Antibiotics, Similarit score: 0.0035911774881414167\n",
      "File index: 235, File name: wes2015.d269.naf, Title: Jeremias Richter and the Law of Definite Proportions, Similarit score: 0.0035056609123959304\n",
      "File index: 234, File name: wes2015.d255.naf, Title: Georg Joachim Rheticus’ Achievements for Astronomy, Similarit score: 0.0035029836735731962\n",
      "File index: 288, File name: wes2015.d147.naf, Title: The Novels of Thomas Hardy, Similarit score: 0.003335240269328218\n",
      "File index: 148, File name: wes2015.d063.naf, Title: Antoine Cournot and the Mathematical Theory of Economics, Similarit score: 0.003333715464338749\n",
      "File index: 244, File name: wes2015.d308.naf, Title: Paul Ehrlich and the Chemotherapy, Similarit score: 0.0033131762023025906\n",
      "File index: 4, File name: wes2015.d212.naf, Title: George Boole – The Founder of Modern Logics, Similarit score: 0.003291174857481894\n",
      "File index: 186, File name: wes2015.d327.naf, Title: James Parkinson and Parkinson’s Disease, Similarit score: 0.0032631736262730116\n",
      "File index: 99, File name: wes2015.d298.naf, Title: B.F. Skinner and Radical Behaviorism, Similarit score: 0.00325967321664759\n",
      "File index: 279, File name: wes2015.d230.naf, Title: Lewis Terman and the Intelligence Quotient, Similarit score: 0.0032486883711643653\n",
      "File index: 213, File name: wes2015.d120.naf, Title: Rembert Dodoens and the Love for Botanical Science, Similarit score: 0.0032196676150483302\n",
      "File index: 219, File name: wes2015.d323.naf, Title: The Kinetoscope and Edison’s Wrong Way to Invent the Cinema, Similarit score: 0.003209226182168521\n",
      "File index: 14, File name: wes2015.d005.naf, Title: Eugene Wigner and the Structure of the Atomic Nucleus, Similarit score: 0.003110349517421214\n",
      "File index: 95, File name: wes2015.d105.naf, Title: The Conversational Eloquence of Madame de Staël, Similarit score: 0.0030524400600024197\n",
      "File index: 209, File name: wes2015.d242.naf, Title: Ernst Kummer and his Achievements in Mathematics, Similarit score: 0.0030473728636649646\n",
      "File index: 277, File name: wes2015.d026.naf, Title: Jean-Rondolphe Perronet and the Bridges of Paris, Similarit score: 0.0030405565368352414\n",
      "File index: 35, File name: wes2015.d200.naf, Title: The Last Lecture of Randy Pausch, Similarit score: 0.0030202877192667663\n",
      "File index: 2, File name: wes2015.d010.naf, Title: Sir James Young Simpson and the Chloroform, Similarit score: 0.002974841429172648\n",
      "File index: 147, File name: wes2015.d077.naf, Title: The Art of Suspense – Alfred Hitchcock’s Cinema, Similarit score: 0.002936344422375234\n",
      "File index: 115, File name: wes2015.d129.naf, Title: Gerald Hawkins and the Secret of Stonehenge, Similarit score: 0.0029227829445964315\n",
      "File index: 228, File name: wes2015.d055.naf, Title: William F. Friedman and the Art of Cryptology, Similarit score: 0.0028224028494481385\n",
      "File index: 223, File name: wes2015.d257.naf, Title: Octave Chanute – One of the Fathers of Aviation, Similarit score: 0.002781859609086012\n",
      "File index: 264, File name: wes2015.d192.naf, Title: John McCarthy and the Raise of Artificial Intelligence, Similarit score: 0.00272364522506211\n",
      "File index: 315, File name: wes2015.d222.naf, Title: Churchill’s Best Horse in the Barn – Alan Turing, Codebreaker and AI Pioneer, Similarit score: 0.002656992969008405\n",
      "File index: 164, File name: wes2015.d133.naf, Title: Barbara McClintock and Cytogenetics, Similarit score: 0.002561288512378643\n",
      "File index: 192, File name: wes2015.d118.naf, Title: Ignaz Semmelweis and the Importance of Washing Your Hands as a Doctor, Similarit score: 0.002529217190982994\n",
      "File index: 229, File name: wes2015.d043.naf, Title: Henry Cavendish and the Weight of the Earth, Similarit score: 0.002485264530077431\n",
      "File index: 122, File name: wes2015.d262.naf, Title: Nikolai Lobachevsky – The Copernicus of Geometry, Similarit score: 0.002459900958027077\n",
      "File index: 204, File name: wes2015.d040.naf, Title: Peter Barlow and the Barlow Lenses, Similarit score: 0.0024380558563312908\n",
      "File index: 160, File name: wes2015.d324.naf, Title: Catherine de Medici and St. Bartholomew’s Day, Similarit score: 0.002396093114159117\n",
      "File index: 137, File name: wes2015.d102.naf, Title: William Makepeace Thackeray’s deft Skewering of Human Foibles, Similarit score: 0.0023268597934381027\n",
      "File index: 84, File name: wes2015.d070.naf, Title: Jöns Jacob Berzelius – One of the Founders of Modern Chemistry, Similarit score: 0.0023135716288568355\n",
      "File index: 270, File name: wes2015.d178.naf, Title: Johann Carolus and the First Newspaper, Similarit score: 0.0023129415947648565\n",
      "File index: 201, File name: wes2015.d050.naf, Title: Sir Patrick Manson – The Father of Tropical Medicine, Similarit score: 0.0023099435360426153\n",
      "File index: 290, File name: wes2015.d231.naf, Title: Thomas Augustus Watson – Recipient of the Very First Phone Call, Similarit score: 0.0023027539362623804\n",
      "File index: 278, File name: wes2015.d218.naf, Title: Happy Birthday Linux!, Similarit score: 0.0022933820936524682\n",
      "File index: 324, File name: wes2015.d169.naf, Title: The very first Printed Book, Similarit score: 0.002224390137058853\n",
      "File index: 42, File name: wes2015.d163.naf, Title: The Myserious Voynich Manuscript, Similarit score: 0.002082926376607807\n",
      "File index: 23, File name: wes2015.d198.naf, Title: J.C.R. Licklider and Interactive Computing, Similarit score: 0.0020549677342350217\n",
      "File index: 97, File name: wes2015.d313.naf, Title: Jacques de Perthes and European Archaeology, Similarit score: 0.0020549256556196337\n",
      "File index: 87, File name: wes2015.d266.naf, Title: A life is like a garden – Leonard Nimoy, Similarit score: 0.0020192558892018274\n",
      "File index: 134, File name: wes2015.d300.naf, Title: Erich Fromm and the Frankfurt School of Critical Theory, Similarit score: 0.002010880087780439\n",
      "File index: 101, File name: wes2015.d273.naf, Title: William Oughtred and the Slide Rule, Similarit score: 0.001977543862818181\n",
      "File index: 68, File name: wes2015.d271.naf, Title: George Gamow and his fundamental Views on the Foundations of Science, Similarit score: 0.001893731045318286\n",
      "File index: 63, File name: wes2015.d067.naf, Title: Pliny the Elder and the Destruction of Pompeii, Similarit score: 0.0018917465786661139\n",
      "File index: 48, File name: wes2015.d001.naf, Title: William Beaumont and the Human Digestion, Similarit score: 0.0018881445199133177\n",
      "File index: 106, File name: wes2015.d061.naf, Title: Fred Whipple and the Dirty Snowballs, Similarit score: 0.001886283802532095\n",
      "File index: 239, File name: wes2015.d309.naf, Title: John Snow and His Work on Cholera, Similarit score: 0.0018683152245222501\n",
      "File index: 211, File name: wes2015.d281.naf, Title: The Life and Work of Philippe de La Hire, Similarit score: 0.001824117495239032\n",
      "File index: 322, File name: wes2015.d182.naf, Title: Dennis Tito, Space Tourist, Similarit score: 0.001816219645761741\n",
      "File index: 246, File name: wes2015.d297.naf, Title: The Sydney Harbour Bridge, Similarit score: 0.0018153072024361524\n",
      "File index: 172, File name: wes2015.d279.naf, Title: Joseph Priestley – The Educator and Historian, Similarit score: 0.001745783502848901\n",
      "File index: 112, File name: wes2015.d317.naf, Title: Royal Botanist Charles Plumier, Similarit score: 0.0017456923902424907\n",
      "File index: 113, File name: wes2015.d101.naf, Title: The Dancers of Edgar Degas, Similarit score: 0.0017313587896707746\n",
      "File index: 29, File name: wes2015.d238.naf, Title: Oskar Morgenstern and the Game Theory, Similarit score: 0.0017277111137182423\n",
      "File index: 284, File name: wes2015.d191.naf, Title: John Lindley and his Love for Plants, Similarit score: 0.0017111449822866142\n",
      "File index: 271, File name: wes2015.d232.naf, Title: Gaspard Bauhin and the Classification of Plants, Similarit score: 0.0016842651980515776\n",
      "File index: 259, File name: wes2015.d227.naf, Title: Alfred Tarski and the Undefinability of Truth, Similarit score: 0.0016839119578220168\n",
      "File index: 179, File name: wes2015.d045.naf, Title: Thales of Miletus – (possibly) the Father of Greek Mathematics, Similarit score: 0.0016653806016076202\n",
      "File index: 194, File name: wes2015.d285.naf, Title: Hippolyte Fizeau and the Speed of Light, Similarit score: 0.0016369098973903272\n",
      "File index: 108, File name: wes2015.d277.naf, Title: Richard E. Byrd, Jr. – Aviator and Polar Explorer, Similarit score: 0.0016194532625984476\n",
      "File index: 54, File name: wes2015.d161.naf, Title: Alcuin of York and the Carolingian Renaissance, Similarit score: 0.0015950618270328851\n",
      "File index: 283, File name: wes2015.d185.naf, Title: Claude Joseph Rouget de Lisle and the Marseillaise, Similarit score: 0.0015825552607196041\n",
      "File index: 1, File name: wes2015.d004.naf, Title: Walt Disney’s ‘Steamboat Willie’ and the Rise of Mickey Mouse, Similarit score: 0.001570614730104389\n",
      "File index: 153, File name: wes2015.d278.naf, Title: Vladimir Vernadsky and the Biosphere, Similarit score: 0.0015547870040505609\n",
      "File index: 120, File name: wes2015.d302.naf, Title: The Expeditions of John Wesley Powell, Similarit score: 0.0015524040187086742\n",
      "File index: 212, File name: wes2015.d322.naf, Title: Samuel Johnson and his Famous Dictionary, Similarit score: 0.001540561683522996\n",
      "File index: 185, File name: wes2015.d284.naf, Title: Aristarchus of Samos and the Heliocentric System, Similarit score: 0.001536667451779255\n",
      "File index: 40, File name: wes2015.d188.naf, Title: Encore un Moment – The Life of Madame Du Barry, Similarit score: 0.0015004159466602816\n",
      "File index: 20, File name: wes2015.d205.naf, Title: Vannevar Bush and the Memex, Similarit score: 0.0014987256917501862\n",
      "File index: 151, File name: wes2015.d085.naf, Title: Nicolas-Jacques Conté and the Pencil, Similarit score: 0.0014846323729279006\n",
      "File index: 159, File name: wes2015.d330.naf, Title: William Playfair and the Beginnings of Infographics, Similarit score: 0.001479046076634755\n",
      "File index: 169, File name: wes2015.d286.naf, Title: James Dewar and the Liquefaction of Gases, Similarit score: 0.001475640933172646\n",
      "File index: 37, File name: wes2015.d162.naf, Title: Beaumarchais and Figaro's Wedding, Similarit score: 0.0014646998969478765\n",
      "File index: 281, File name: wes2015.d146.naf, Title: The First American to walk in Space – Edward White, Similarit score: 0.0014435192388035792\n",
      "File index: 34, File name: wes2015.d214.naf, Title: Intel 4004 – The World’s First Microprocessor, Similarit score: 0.0014359853919517509\n",
      "File index: 59, File name: wes2015.d216.naf, Title: Dennis Ritchie – Designer of UNIX and C, Similarit score: 0.0014186027154200734\n",
      "File index: 133, File name: wes2015.d314.naf, Title: Pavlov and the Conditional Reflex, Similarit score: 0.001332518601102564\n",
      "File index: 273, File name: wes2015.d030.naf, Title: Felix Bloch and the Nuclear Magnetic Resonance Method, Similarit score: 0.0012866108789847325\n",
      "File index: 177, File name: wes2015.d079.naf, Title: Richard Mead and the Understanding of Transmissible Diseases, Similarit score: 0.0012654554610353236\n",
      "File index: 301, File name: wes2015.d180.naf, Title: J. J. Thompson and the Electron, Similarit score: 0.0012578920631478297\n",
      "File index: 135, File name: wes2015.d328.naf, Title: Juan de la Cierva and the Autogiro, Similarit score: 0.0012343220706500456\n",
      "File index: 231, File name: wes2015.d080.naf, Title: Abu Ma’shar al-Balkhi – The Prince of Astrologers, Similarit score: 0.001234190122802532\n",
      "File index: 143, File name: wes2015.d249.naf, Title: Alfred Adler and the Individual Psychology, Similarit score: 0.0012227084064049443\n",
      "File index: 75, File name: wes2015.d304.naf, Title: Joseph Proust and the Law of Constant Composition, Similarit score: 0.0012174802138718481\n",
      "File index: 154, File name: wes2015.d244.naf, Title: Euclid – the Father of Geometry, Similarit score: 0.0012156797253528586\n",
      "File index: 51, File name: wes2015.d203.naf, Title: GNU’s not Unix, Similarit score: 0.0011227650546863583\n",
      "File index: 285, File name: wes2015.d190.naf, Title: Gideon Mantell and the Iguanodon, Similarit score: 0.0009814239742890825\n",
      "File index: 46, File name: wes2015.d003.naf, Title: Ferdinand de Lesseps and the Suez Canal, Similarit score: 0.0009219284687031557\n",
      "File index: 0, File name: wes2015.d038.naf, Title: Evangelista Torricelli and the Barometer, Similarit score: 0.0\n",
      "File index: 6, File name: wes2015.d170.naf, Title: Caspar Monge and the Geometry, Similarit score: 0.0\n",
      "File index: 8, File name: wes2015.d165.naf, Title: Francis Baily and the Baily Beads, Similarit score: 0.0\n",
      "File index: 9, File name: wes2015.d171.naf, Title: Thomas Blood and the Crown Jewels of England, Similarit score: 0.0\n",
      "File index: 10, File name: wes2015.d159.naf, Title: Marcel Breuer – Master of Modernism, Similarit score: 0.0\n",
      "File index: 11, File name: wes2015.d213.naf, Title: Doug Engelbart and the Computer Mouse, Similarit score: 0.0\n",
      "File index: 12, File name: wes2015.d207.naf, Title: Nikolaus Wirth and PASCAL, Similarit score: 0.0\n",
      "File index: 13, File name: wes2015.d011.naf, Title: Louis Antoine de Bougainville and his Voyage Around the World, Similarit score: 0.0\n",
      "File index: 16, File name: wes2015.d013.naf, Title: Florence Sabin – Preparing the Ground for Women in Medical Science, Similarit score: 0.0\n",
      "File index: 21, File name: wes2015.d167.naf, Title: Igor Sikorsky and the Helicopter, Similarit score: 0.0\n",
      "File index: 24, File name: wes2015.d199.naf, Title: The Birth of the Internet, Similarit score: 0.0\n",
      "File index: 30, File name: wes2015.d006.naf, Title: Eugenio Beltrami and Non-Euclidian Geometry, Similarit score: 0.0\n",
      "File index: 31, File name: wes2015.d012.naf, Title: Robert Morison and the Classification of Plants, Similarit score: 0.0\n",
      "File index: 32, File name: wes2015.d016.naf, Title: Adolphe Sax and the Saxophone, Similarit score: 0.0\n",
      "File index: 38, File name: wes2015.d176.naf, Title: How the Pope divided the New World among Spain and the Rest of the World, Similarit score: 0.0\n",
      "File index: 39, File name: wes2015.d189.naf, Title: Sir George Stokes and Fluid Dynamics, Similarit score: 0.0\n",
      "File index: 41, File name: wes2015.d177.naf, Title: SPAM Rules the Internet, Similarit score: 0.0\n",
      "File index: 44, File name: wes2015.d201.naf, Title: FORTRAN – The First Programming Language for Numeric Calculations, Similarit score: 0.0\n",
      "File index: 49, File name: wes2015.d015.naf, Title: William Stukeley and the Mystery of Stonehenge, Similarit score: 0.0\n",
      "File index: 52, File name: wes2015.d217.naf, Title: “Don’t be evil” – Google celebrates its 14th Birthday, Similarit score: 0.0\n",
      "File index: 53, File name: wes2015.d175.naf, Title: You Press the Button and We Do the Rest – George Eastman revolutionized Photography, Similarit score: 0.0\n",
      "File index: 56, File name: wes2015.d148.naf, Title: Carnot and Thermodynamics, Similarit score: 0.0\n",
      "File index: 58, File name: wes2015.d174.naf, Title: Adolph von Knigge and Human Relations, Similarit score: 0.0\n",
      "File index: 61, File name: wes2015.d028.naf, Title: William Higinbotham and Tennis for Two, Similarit score: 0.0\n",
      "File index: 64, File name: wes2015.d073.naf, Title: Hazel Bishop and the Long Lasting Lipstick, Similarit score: 0.0\n",
      "File index: 66, File name: wes2015.d259.naf, Title: John Mercer and the Cotton Mercerisation, Similarit score: 0.0\n",
      "File index: 67, File name: wes2015.d265.naf, Title: Samuel Pierpont Langley and his Aviation Work, Similarit score: 0.0\n",
      "File index: 69, File name: wes2015.d311.naf, Title: El Escorial – The World’s largest Renaissance Building, Similarit score: 0.0\n",
      "File index: 71, File name: wes2015.d113.naf, Title: Albert von Kölliker and the Origins of Embriology, Similarit score: 0.0\n",
      "File index: 74, File name: wes2015.d112.naf, Title: Rudolf Wolf and the Sunspots, Similarit score: 0.0\n",
      "File index: 76, File name: wes2015.d310.naf, Title: William Budd and the Infectious Diseases, Similarit score: 0.0\n",
      "File index: 77, File name: wes2015.d270.naf, Title: John Murray and the Oceanography, Similarit score: 0.0\n",
      "File index: 79, File name: wes2015.d258.naf, Title: Robert E. Peary’s Arctic Expedition, Similarit score: 0.0\n",
      "File index: 80, File name: wes2015.d099.naf, Title: Jean Picard and his Love for Accuracy, Similarit score: 0.0\n",
      "File index: 81, File name: wes2015.d072.naf, Title: Brook Taylor – Forerunner of Differential Calculus, Similarit score: 0.0\n",
      "File index: 82, File name: wes2015.d066.naf, Title: Elizabeth Montagu and the Bluestocking Society, Similarit score: 0.0\n",
      "File index: 86, File name: wes2015.d272.naf, Title: The Philosophical Transactions of the Royal Society, Similarit score: 0.0\n",
      "File index: 88, File name: wes2015.d299.naf, Title: The watches of Daniel Quare, Similarit score: 0.0\n",
      "File index: 90, File name: wes2015.d312.naf, Title: Harvey Fletcher – the Father of Stereophonic Sound, Similarit score: 0.0\n",
      "File index: 91, File name: wes2015.d138.naf, Title: The Hayden Geological Survey and the Yellowstone National Park, Similarit score: 0.0\n",
      "File index: 92, File name: wes2015.d104.naf, Title: Pavel Cherenkov and the Blue Light, Similarit score: 0.0\n",
      "File index: 93, File name: wes2015.d110.naf, Title: John Wheeler and the Golden Age of General Relativity, Similarit score: 0.0\n",
      "File index: 94, File name: wes2015.d111.naf, Title: Alfred Binet and the Intelligence Test, Similarit score: 0.0\n",
      "File index: 100, File name: wes2015.d267.naf, Title: Robert Cornelius shoots the very first Selfie, Similarit score: 0.0\n",
      "File index: 102, File name: wes2015.d065.naf, Title: Lee De Forest and the Audion, Similarit score: 0.0\n",
      "File index: 103, File name: wes2015.d071.naf, Title: Philo Taylor Farnsworth and the Electronic Television, Similarit score: 0.0\n",
      "File index: 104, File name: wes2015.d059.naf, Title: Sergei Winogradsky and the Science of Bacteriology, Similarit score: 0.0\n",
      "File index: 105, File name: wes2015.d075.naf, Title: Louis de Broglie and wave nature of matter, Similarit score: 0.0\n",
      "File index: 107, File name: wes2015.d049.naf, Title: James Lind and a Cure for Scurvy, Similarit score: 0.0\n",
      "File index: 110, File name: wes2015.d288.naf, Title: Legendre’s Elements of Geometry, Similarit score: 0.0\n",
      "File index: 111, File name: wes2015.d303.naf, Title: Seymour R. Cray – the Father of Supercomputing, Similarit score: 0.0\n",
      "File index: 114, File name: wes2015.d115.naf, Title: Rube Goldberg’s complicated Machines, Similarit score: 0.0\n",
      "File index: 117, File name: wes2015.d114.naf, Title: A. E. Douglass and the Dendrochronology, Similarit score: 0.0\n",
      "File index: 118, File name: wes2015.d100.naf, Title: Sir John Reith and the BBC, Similarit score: 0.0\n",
      "File index: 121, File name: wes2015.d289.naf, Title: John Goodricke and the Variable Star of Beta Persei, Similarit score: 0.0\n",
      "File index: 123, File name: wes2015.d276.naf, Title: Howard H. Aiken and the Harvard Mark I, Similarit score: 0.0\n",
      "File index: 124, File name: wes2015.d048.naf, Title: Robert Goddard – the Man who ushered in the Space Age, Similarit score: 0.0\n",
      "File index: 125, File name: wes2015.d060.naf, Title: Sir Bernard Lovell and the Radioastronomy, Similarit score: 0.0\n",
      "File index: 126, File name: wes2015.d074.naf, Title: Pierre Mechain and the Meridian Survey Expedition, Similarit score: 0.0\n",
      "File index: 128, File name: wes2015.d076.naf, Title: John Logie Baird and the Television, Similarit score: 0.0\n",
      "File index: 129, File name: wes2015.d089.naf, Title: Stephanie Kwolek and the Bullet-proof Vests, Similarit score: 0.0\n",
      "File index: 131, File name: wes2015.d274.naf, Title: Henry Draper and his Passion for Astronomy, Similarit score: 0.0\n",
      "File index: 140, File name: wes2015.d329.naf, Title: Squire Whipple – The Father of the Iron Bridge, Similarit score: 0.0\n",
      "File index: 141, File name: wes2015.d301.naf, Title: Vanguard 1 – the first Solar Powered Satellite, Similarit score: 0.0\n",
      "File index: 142, File name: wes2015.d315.naf, Title: The First Spacecraft to Land on the Moon – Luna 2, Similarit score: 0.0\n",
      "File index: 144, File name: wes2015.d275.naf, Title: John Fothergill – Physician and Gardener, Similarit score: 0.0\n",
      "File index: 145, File name: wes2015.d261.naf, Title: Andrea Cesalpino and the Classification of Plants, Similarit score: 0.0\n",
      "File index: 146, File name: wes2015.d088.naf, Title: Maria Mitchell and the Comets, Similarit score: 0.0\n",
      "File index: 152, File name: wes2015.d091.naf, Title: Dorothy Hodgkin and the Structure of Penicilin, Similarit score: 0.0\n",
      "File index: 161, File name: wes2015.d132.naf, Title: Sir Francis Drake’s discovery of Nova Albion, Similarit score: 0.0\n",
      "File index: 162, File name: wes2015.d126.naf, Title: Deodat de Dolomieu and the Love for Rocks, Similarit score: 0.0\n",
      "File index: 163, File name: wes2015.d127.naf, Title: The Discovery of Charon, Similarit score: 0.0\n",
      "File index: 165, File name: wes2015.d325.naf, Title: Robert Delaunay and Orphism, Similarit score: 0.0\n",
      "File index: 166, File name: wes2015.d331.naf, Title: Juan Bautista de Anza and the Route to San Francisco Bay, Similarit score: 0.0\n",
      "File index: 168, File name: wes2015.d292.naf, Title: John Dalton and the Atomic Theory, Similarit score: 0.0\n",
      "File index: 174, File name: wes2015.d084.naf, Title: Joseph Carey Merrick – the Elefant Man, Similarit score: 0.0\n",
      "File index: 175, File name: wes2015.d053.naf, Title: Étienne de Condillac and the Importance of Language in Logical Reasoning, Similarit score: 0.0\n",
      "File index: 180, File name: wes2015.d092.naf, Title: Karl Popper and the Philosophy of Science, Similarit score: 0.0\n",
      "File index: 181, File name: wes2015.d086.naf, Title: Richard Arkwright – the Father of the Industrial Revolution, Similarit score: 0.0\n",
      "File index: 182, File name: wes2015.d253.naf, Title: Fritz Zwicky and the Dark Matter, Similarit score: 0.0\n",
      "File index: 183, File name: wes2015.d247.naf, Title: Charles Lindbergh and his Spirit of St. Louis, Similarit score: 0.0\n",
      "File index: 188, File name: wes2015.d125.naf, Title: Martin Perl and the Tau, Similarit score: 0.0\n",
      "File index: 193, File name: wes2015.d326.naf, Title: Vom Science Slam zur Bestsellerliste, Similarit score: 0.0\n",
      "File index: 198, File name: wes2015.d087.naf, Title: John Tyndall and the Physics of Air, Similarit score: 0.0\n",
      "File index: 199, File name: wes2015.d093.naf, Title: Rosalind Franklin and the Beauty of the DNA Structure, Similarit score: 0.0\n",
      "File index: 202, File name: wes2015.d078.naf, Title: Meet Sue, the Dinosaur, Similarit score: 0.0\n",
      "File index: 206, File name: wes2015.d097.naf, Title: Isaac Singer and the Sewing Machine, Similarit score: 0.0\n",
      "File index: 208, File name: wes2015.d256.naf, Title: Frederick Eugene Ives and the Halftone Printing Process, Similarit score: 0.0\n",
      "File index: 210, File name: wes2015.d295.naf, Title: Jethro Tull and the Agricultural Revolution, Similarit score: 0.0\n",
      "File index: 216, File name: wes2015.d109.naf, Title: Camille Pissaro and the Impressionistic Art Movement, Similarit score: 0.0\n",
      "File index: 217, File name: wes2015.d135.naf, Title: Charles Augustin de Coulomb and the Electrostatic Force, Similarit score: 0.0\n",
      "File index: 220, File name: wes2015.d280.naf, Title: Frederick Reines and the Neutrino, Similarit score: 0.0\n",
      "File index: 225, File name: wes2015.d096.naf, Title: Joseph Nicollet and the Upper Mississippi River, Similarit score: 0.0\n",
      "File index: 226, File name: wes2015.d069.naf, Title: William Murdock ‘enlights’ the 19th Century, Similarit score: 0.0\n",
      "File index: 227, File name: wes2015.d041.naf, Title: Ascanio Sobrero and the Power of Nitroglycerine, Similarit score: 0.0\n",
      "File index: 230, File name: wes2015.d057.naf, Title: Louis Henry Sullivan – the ‘Father’ of the Skyscaper, Similarit score: 0.0\n",
      "File index: 232, File name: wes2015.d094.naf, Title: The Plays of George Bernard Shaw, Similarit score: 0.0\n",
      "File index: 233, File name: wes2015.d241.naf, Title: Thomas Willis and the Royal Society, Similarit score: 0.0\n",
      "File index: 238, File name: wes2015.d321.naf, Title: Aviation Pioneer Harriet Quimby, Similarit score: 0.0\n",
      "File index: 241, File name: wes2015.d123.naf, Title: Lyman Spitzer and the Space Telescope, Similarit score: 0.0\n",
      "File index: 250, File name: wes2015.d240.naf, Title: Henry Briggs and the Popularization on Logarithms, Similarit score: 0.0\n",
      "File index: 251, File name: wes2015.d095.naf, Title: Thomas Say and his Love for Beetles, Similarit score: 0.0\n",
      "File index: 252, File name: wes2015.d081.naf, Title: Ernest Lawrence and the Cyclotron, Similarit score: 0.0\n",
      "File index: 253, File name: wes2015.d056.naf, Title: The Travels of William Dampier, Similarit score: 0.0\n",
      "File index: 256, File name: wes2015.d025.naf, Title: Constantine and the Battle at the Milvian Bridge, Similarit score: 0.0\n",
      "File index: 263, File name: wes2015.d145.naf, Title: The First Pulitzer Prize, Similarit score: 0.0\n",
      "File index: 266, File name: wes2015.d187.naf, Title: The German Reinheitsgebot, Similarit score: 0.0\n",
      "File index: 269, File name: wes2015.d150.naf, Title: Elly Beinhorn and her Love for Aviation, Similarit score: 0.0\n",
      "File index: 272, File name: wes2015.d226.naf, Title: Nicolas Steno and the Principles of Modern Geology, Similarit score: 0.0\n",
      "File index: 275, File name: wes2015.d018.naf, Title: Spyridon Marinatos and the Discovery of Akrotiri, Similarit score: 0.0\n",
      "File index: 276, File name: wes2015.d032.naf, Title: Samuel W. Alderson and the Crash Test Dummies, Similarit score: 0.0\n",
      "File index: 280, File name: wes2015.d224.naf, Title: Do You Speak Polish… Or Maybe Reverse Polish?, Similarit score: 0.0\n",
      "File index: 289, File name: wes2015.d225.naf, Title: Claude Shannon – Father of Information Theory, Similarit score: 0.0\n",
      "File index: 291, File name: wes2015.d219.naf, Title: The Bug that wasn’t really a Bug – Computer Pioneer Grace Murray Hopper, Similarit score: 0.0\n",
      "File index: 292, File name: wes2015.d027.naf, Title: Giovanni Maria Lancisi and his Medical Discoveries, Similarit score: 0.0\n",
      "File index: 295, File name: wes2015.d023.naf, Title: Hans Grade – German Aviation Pioneer, Similarit score: 0.0\n",
      "File index: 297, File name: wes2015.d221.naf, Title: Let Us Calculate – the Last Universal Academic Gottfried Wilhelm Leibniz, Similarit score: 0.0\n",
      "File index: 299, File name: wes2015.d143.naf, Title: Thomas Mann and the Mann Family, Similarit score: 0.0\n",
      "File index: 302, File name: wes2015.d194.naf, Title: Marvin Minsky and Artificial Neural Networks, Similarit score: 0.0\n",
      "File index: 303, File name: wes2015.d195.naf, Title: Dan Bricklin and VisiCalc, Similarit score: 0.0\n",
      "File index: 304, File name: wes2015.d181.naf, Title: Henri Poincaré – the Last Universalist of Mathematics, Similarit score: 0.0\n",
      "File index: 306, File name: wes2015.d142.naf, Title: Robert Mulliken and the Molecular Orbitals, Similarit score: 0.0\n",
      "File index: 307, File name: wes2015.d208.naf, Title: ENIAC – The First Computer Introduced Into Public, Similarit score: 0.0\n",
      "File index: 310, File name: wes2015.d022.naf, Title: Adolf von Baeyer and the Color Blue, Similarit score: 0.0\n",
      "File index: 312, File name: wes2015.d020.naf, Title: Alexander Lippisch and the Delta Wing, Similarit score: 0.0\n",
      "File index: 313, File name: wes2015.d034.naf, Title: Eudoxus and the Method of Exhaustion, Similarit score: 0.0\n",
      "File index: 318, File name: wes2015.d140.naf, Title: Johann Gottfried Galle and Planet Neptune, Similarit score: 0.0\n",
      "File index: 320, File name: wes2015.d197.naf, Title: Rudy Rucker – Infinity and the Mind, Similarit score: 0.0\n",
      "File index: 321, File name: wes2015.d183.naf, Title: Edward Whymper and the Matterhorn, Similarit score: 0.0\n",
      "File index: 323, File name: wes2015.d196.naf, Title: The Antikythera Mechanism – an Ancient Analog Computer, Similarit score: 0.0\n",
      "File index: 325, File name: wes2015.d141.naf, Title: The Viking Raid on the Abbey of Lindisfarne, Similarit score: 0.0\n",
      "File index: 327, File name: wes2015.d237.naf, Title: Andrija Mohorovičić and the Mohorovičić Discontinuity, Similarit score: 0.0\n",
      "File index: 328, File name: wes2015.d223.naf, Title: Well, I Didn’t Know it was Hard – Happy Birthday Ivan Sutherland, Similarit score: 0.0\n",
      "File index: 329, File name: wes2015.d009.naf, Title: Dorothea Erxleben – Germany’s First Female Medical Doctor, Similarit score: 0.0\n"
     ]
    }
   ],
   "source": [
    "# sorting the dictionary based on the sim score values\n",
    "sim_matrix_sorted = dict(sorted(sim_matrix.items(), key=lambda x:x[1], reverse=True))\n",
    "# printing results\n",
    "for doc, sim_score in sim_matrix_sorted.items():\n",
    "    if doc_files[doc].startswith('.'):\n",
    "        continue\n",
    "    else:\n",
    "        print(f'File index: {doc}, File name: {doc_files[doc]}, Title: {doc_dict[doc_files[doc]][1]}, Similarit score: {sim_score}')"
   ]
  }
 ],
 "metadata": {
  "kernelspec": {
   "display_name": "Python 3 (ipykernel)",
   "language": "python",
   "name": "python3"
  },
  "language_info": {
   "codemirror_mode": {
    "name": "ipython",
    "version": 3
   },
   "file_extension": ".py",
   "mimetype": "text/x-python",
   "name": "python",
   "nbconvert_exporter": "python",
   "pygments_lexer": "ipython3",
   "version": "3.11.5"
  }
 },
 "nbformat": 4,
 "nbformat_minor": 5
}
